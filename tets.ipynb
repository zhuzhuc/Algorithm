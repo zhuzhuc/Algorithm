{
 "cells": [
  {
   "cell_type": "code",
   "execution_count": 3,
   "metadata": {},
   "outputs": [
    {
     "name": "stdout",
     "output_type": "stream",
     "text": [
      "3651go\n"
     ]
    }
   ],
   "source": [
    "import random\n",
    "code_list = []\n",
    "for i in range(6):\n",
    "    state = random.randint(1, 3)\n",
    "    if state == 1:\n",
    "\n",
    "        random_uppercase = chr(random.randint(65, 90))\n",
    "        code_list.append(random_uppercase)\n",
    "    elif state == 2:\n",
    "        random_lowercase = chr(random.randint(97, 122))\n",
    "        code_list.append(random_lowercase)\n",
    "    else:\n",
    "        random_number = str(random.randint(0, 9))\n",
    "        code_list.append(random_number)\n",
    "\n",
    "verify_code = \"\".join(code_list)\n",
    "print(verify_code)"
   ]
  },
  {
   "cell_type": "code",
   "execution_count": null,
   "metadata": {},
   "outputs": [],
   "source": [
    "print(\"尝试捕获两个异常\")\n",
    "try:\n",
    "    a = ['1.txt','2.txt','3.txt']\n",
    "    f=open(a[4])\n",
    "except IndexError as e1:\n",
    "    print('IndexError')\n",
    "    f=open(a[2])\n",
    "except FileNotFoundError as e2:\n",
    "    print('FileNotFoundError')\n",
    "    f=open(a[2])\n",
    "else:\n",
    "    print('Rigth')\n",
    "finally:\n",
    "    print('文件读取异常但读取完毕')"
   ]
  }
 ],
 "metadata": {
  "kernelspec": {
   "display_name": "base",
   "language": "python",
   "name": "python3"
  },
  "language_info": {
   "codemirror_mode": {
    "name": "ipython",
    "version": 3
   },
   "file_extension": ".py",
   "mimetype": "text/x-python",
   "name": "python",
   "nbconvert_exporter": "python",
   "pygments_lexer": "ipython3",
   "version": "3.11.8"
  }
 },
 "nbformat": 4,
 "nbformat_minor": 2
}
